{
 "cells": [
  {
   "cell_type": "code",
   "execution_count": 21,
   "metadata": {},
   "outputs": [],
   "source": [
    "import numpy as np\n",
    "import pandas as pd\n",
    "from matplotlib import pyplot as plt\n",
    "%matplotlib inline\n",
    "import warnings\n",
    "warnings.filterwarnings('ignore')\n",
    "import pickle\n",
    "import seaborn as sns\n",
    "from pandas import Timestamp\n",
    "import gpflow\n",
    "from gpflow.utilities import print_summary\n",
    "from gpflow import set_trainable\n",
    "import tensorflow as tf\n",
    "from sklearn.metrics import mean_squared_error\n",
    "from math import sqrt\n",
    "from datetime import timedelta"
   ]
  },
  {
   "cell_type": "code",
   "execution_count": 4,
   "metadata": {},
   "outputs": [],
   "source": [
    "#Loading saved data\n",
    "d = pickle.load(open('04-09-2020.p','rb'))\n",
    "X = d['X']\n",
    "Y = d['Y']"
   ]
  },
  {
   "cell_type": "code",
   "execution_count": 5,
   "metadata": {},
   "outputs": [],
   "source": [
    "#Removing one location's data from X\n",
    "long, lat = 32.5757, 0.322320"
   ]
  },
  {
   "cell_type": "code",
   "execution_count": 6,
   "metadata": {},
   "outputs": [],
   "source": [
    "#getting the indices of the rows with that locations' data\n",
    "location_indices = np.where(np.logical_and(X[:,0]==long, X[:,1]==lat))"
   ]
  },
  {
   "cell_type": "code",
   "execution_count": 7,
   "metadata": {},
   "outputs": [
    {
     "data": {
      "text/plain": [
       "(7335, 3)"
      ]
     },
     "execution_count": 7,
     "metadata": {},
     "output_type": "execute_result"
    }
   ],
   "source": [
    "#creating X dataset\n",
    "Xset = X[np.logical_not(np.logical_and(X[:,0]==long, X[:,1]==lat))]\n",
    "Xset.shape"
   ]
  },
  {
   "cell_type": "code",
   "execution_count": 8,
   "metadata": {},
   "outputs": [
    {
     "data": {
      "text/plain": [
       "(array([ 939,  940,  941,  942,  943,  944,  945,  946,  947,  948,  949,\n",
       "         950,  951,  952,  953,  954,  955,  956,  957,  958,  959,  960,\n",
       "         961,  962,  963,  964,  965,  966,  967,  968,  969,  970,  971,\n",
       "         972,  973,  974,  975,  976,  977,  978,  979,  980,  981,  982,\n",
       "         983,  984,  985,  986,  987,  988,  989,  990,  991,  992,  993,\n",
       "         994,  995,  996,  997,  998,  999, 1000, 1001, 1002, 1003, 1004,\n",
       "        1005, 1006, 1007, 1008, 1009, 1010, 1011, 1012, 1013, 1014, 1015,\n",
       "        1016, 1017, 1018, 1019, 1020, 1021, 1022, 1023, 1024, 1025, 1026,\n",
       "        1027, 1028, 1029, 1030, 1031, 1032, 1033, 1034, 1035, 1036, 1037,\n",
       "        1038, 1039, 1040, 1041, 1042, 1043, 1044, 1045, 1046, 1047, 1048,\n",
       "        1049, 1050, 1051, 1052, 1053, 1054, 1055, 1056, 1057, 1058, 1059,\n",
       "        1060, 1061, 1062, 1063, 1064, 1065, 1066, 1067, 1068, 1069, 1070,\n",
       "        1071, 1072, 1073, 1074, 1075, 1076, 1077, 1078, 1079, 1080, 1081,\n",
       "        1082, 1083, 1084, 1085, 1086, 1087, 1088, 1089, 1090, 1091, 1092,\n",
       "        1093, 1094, 1095, 1096, 1097, 1098], dtype=int64),)"
      ]
     },
     "execution_count": 8,
     "metadata": {},
     "output_type": "execute_result"
    }
   ],
   "source": [
    "location_indices"
   ]
  },
  {
   "cell_type": "code",
   "execution_count": 9,
   "metadata": {},
   "outputs": [
    {
     "data": {
      "text/plain": [
       "(7335, 1)"
      ]
     },
     "execution_count": 9,
     "metadata": {},
     "output_type": "execute_result"
    }
   ],
   "source": [
    "#creating Y dataset\n",
    "Yset = np.delete(Y, slice(location_indices[0][0],location_indices[0][-1]+1), axis=0)\n",
    "Yset.shape"
   ]
  },
  {
   "cell_type": "code",
   "execution_count": 10,
   "metadata": {},
   "outputs": [],
   "source": [
    "#Removing Nans\n",
    "keep = ~np.isnan(Yset[:,0])\n",
    "Yset = Yset[keep,:]\n",
    "Xset = Xset[keep,:]"
   ]
  },
  {
   "cell_type": "code",
   "execution_count": 11,
   "metadata": {},
   "outputs": [
    {
     "data": {
      "text/plain": [
       "((734, 3), (734, 1))"
      ]
     },
     "execution_count": 11,
     "metadata": {},
     "output_type": "execute_result"
    }
   ],
   "source": [
    "#Creating training dataset\n",
    "Xtraining = Xset[::10,:]\n",
    "Ytraining = Yset[::10,:]\n",
    "Xtraining.shape, Ytraining.shape"
   ]
  },
  {
   "cell_type": "code",
   "execution_count": 12,
   "metadata": {},
   "outputs": [
    {
     "data": {
      "text/plain": [
       "((160, 3), (160, 1))"
      ]
     },
     "execution_count": 12,
     "metadata": {},
     "output_type": "execute_result"
    }
   ],
   "source": [
    "#data of deleted location\n",
    "Xtest = X[np.logical_and(X[:,0]==long, X[:,1]==lat)]\n",
    "Ytest = Y[location_indices[0][0]:location_indices[0][-1]+1]\n",
    "Xtest.shape, Ytest.shape"
   ]
  },
  {
   "cell_type": "code",
   "execution_count": 13,
   "metadata": {},
   "outputs": [
    {
     "name": "stdout",
     "output_type": "stream",
     "text": [
      "╒═════════════════════════════╤═══════════╤═════════════╤═════════╤═════════════╤═════════╤═════════╤══════════════════╕\n",
      "│ name                        │ class     │ transform   │ prior   │ trainable   │ shape   │ dtype   │ value            │\n",
      "╞═════════════════════════════╪═══════════╪═════════════╪═════════╪═════════════╪═════════╪═════════╪══════════════════╡\n",
      "│ Sum.kernels[0].variance     │ Parameter │ Softplus    │         │ True        │ ()      │ float64 │ 1.0              │\n",
      "├─────────────────────────────┼───────────┼─────────────┼─────────┼─────────────┼─────────┼─────────┼──────────────────┤\n",
      "│ Sum.kernels[0].lengthscales │ Parameter │ Softplus    │         │ True        │ (3,)    │ float64 │ [0.01 0.01 1.  ] │\n",
      "├─────────────────────────────┼───────────┼─────────────┼─────────┼─────────────┼─────────┼─────────┼──────────────────┤\n",
      "│ Sum.kernels[1].variance     │ Parameter │ Softplus    │         │ True        │ ()      │ float64 │ 1.0              │\n",
      "╘═════════════════════════════╧═══════════╧═════════════╧═════════╧═════════════╧═════════╧═════════╧══════════════════╛\n"
     ]
    }
   ],
   "source": [
    "#defining the kernel\n",
    "k = gpflow.kernels.RBF(lengthscales=[0.01, 0.01, 1.]) + gpflow.kernels.Bias()\n",
    "print_summary(k)"
   ]
  },
  {
   "cell_type": "code",
   "execution_count": 14,
   "metadata": {},
   "outputs": [
    {
     "name": "stdout",
     "output_type": "stream",
     "text": [
      "╒════════════════════════════════════╤═══════════╤══════════════════╤═════════╤═════════════╤═════════╤═════════╤══════════════════╕\n",
      "│ name                               │ class     │ transform        │ prior   │ trainable   │ shape   │ dtype   │ value            │\n",
      "╞════════════════════════════════════╪═══════════╪══════════════════╪═════════╪═════════════╪═════════╪═════════╪══════════════════╡\n",
      "│ GPR.kernel.kernels[0].variance     │ Parameter │ Softplus         │         │ True        │ ()      │ float64 │ 1.0              │\n",
      "├────────────────────────────────────┼───────────┼──────────────────┼─────────┼─────────────┼─────────┼─────────┼──────────────────┤\n",
      "│ GPR.kernel.kernels[0].lengthscales │ Parameter │ Softplus         │         │ False       │ (3,)    │ float64 │ [0.01 0.01 1.  ] │\n",
      "├────────────────────────────────────┼───────────┼──────────────────┼─────────┼─────────────┼─────────┼─────────┼──────────────────┤\n",
      "│ GPR.kernel.kernels[1].variance     │ Parameter │ Softplus         │         │ True        │ ()      │ float64 │ 1.0              │\n",
      "├────────────────────────────────────┼───────────┼──────────────────┼─────────┼─────────────┼─────────┼─────────┼──────────────────┤\n",
      "│ GPR.likelihood.variance            │ Parameter │ Softplus + Shift │         │ True        │ ()      │ float64 │ 1.0              │\n",
      "╘════════════════════════════════════╧═══════════╧══════════════════╧═════════╧═════════════╧═════════╧═════════╧══════════════════╛\n"
     ]
    }
   ],
   "source": [
    "#training the model\n",
    "m = gpflow.models.GPR(data=(Xtraining, Ytraining), kernel=k, mean_function=None)\n",
    "set_trainable(m.kernel.kernels[0].lengthscales, False) \n",
    "print_summary(m)"
   ]
  },
  {
   "cell_type": "code",
   "execution_count": 15,
   "metadata": {},
   "outputs": [
    {
     "name": "stdout",
     "output_type": "stream",
     "text": [
      "╒════════════════════════════════════╤═══════════╤══════════════════╤═════════╤═════════════╤═════════╤═════════╤═══════════════════╕\n",
      "│ name                               │ class     │ transform        │ prior   │ trainable   │ shape   │ dtype   │ value             │\n",
      "╞════════════════════════════════════╪═══════════╪══════════════════╪═════════╪═════════════╪═════════╪═════════╪═══════════════════╡\n",
      "│ GPR.kernel.kernels[0].variance     │ Parameter │ Softplus         │         │ True        │ ()      │ float64 │ 752.252815102796  │\n",
      "├────────────────────────────────────┼───────────┼──────────────────┼─────────┼─────────────┼─────────┼─────────┼───────────────────┤\n",
      "│ GPR.kernel.kernels[0].lengthscales │ Parameter │ Softplus         │         │ False       │ (3,)    │ float64 │ [0.01 0.01 1.  ]  │\n",
      "├────────────────────────────────────┼───────────┼──────────────────┼─────────┼─────────────┼─────────┼─────────┼───────────────────┤\n",
      "│ GPR.kernel.kernels[1].variance     │ Parameter │ Softplus         │         │ True        │ ()      │ float64 │ 2920.267175380276 │\n",
      "├────────────────────────────────────┼───────────┼──────────────────┼─────────┼─────────────┼─────────┼─────────┼───────────────────┤\n",
      "│ GPR.likelihood.variance            │ Parameter │ Softplus + Shift │         │ True        │ ()      │ float64 │ 395.0493976639357 │\n",
      "╘════════════════════════════════════╧═══════════╧══════════════════╧═════════╧═════════════╧═════════╧═════════╧═══════════════════╛\n"
     ]
    }
   ],
   "source": [
    "#model optimization\n",
    "opt = gpflow.optimizers.Scipy()\n",
    "\n",
    "def objective_closure():\n",
    "    return - m.log_marginal_likelihood()\n",
    "\n",
    "opt_logs = opt.minimize(objective_closure,\n",
    "                        m.trainable_variables,\n",
    "                        options=dict(maxiter=100))\n",
    "print_summary(m)"
   ]
  },
  {
   "cell_type": "code",
   "execution_count": 16,
   "metadata": {},
   "outputs": [],
   "source": [
    "#Making predictions\n",
    "mean, var = m.predict_f(Xtest)"
   ]
  },
  {
   "cell_type": "code",
   "execution_count": 17,
   "metadata": {},
   "outputs": [
    {
     "data": {
      "text/plain": [
       "array([[ 31.62      ],\n",
       "       [ 31.64522727],\n",
       "       [ 38.4295122 ],\n",
       "       [ 48.63595238],\n",
       "       [ 61.58162791],\n",
       "       [ 61.39930233],\n",
       "       [ 50.27465116],\n",
       "       [ 35.59953488],\n",
       "       [ 38.67813953],\n",
       "       [ 46.29674419],\n",
       "       [ 56.83487805],\n",
       "       [ 46.91465116],\n",
       "       [ 46.3872093 ],\n",
       "       [ 40.77261905],\n",
       "       [ 39.68121951],\n",
       "       [ 43.28627907],\n",
       "       [ 41.78659091],\n",
       "       [ 32.69594595],\n",
       "       [ 22.67227273],\n",
       "       [ 21.93431818],\n",
       "       [ 21.94658537],\n",
       "       [ 26.12613636],\n",
       "       [ 19.11954545],\n",
       "       [ 17.57613636],\n",
       "       [ 26.0627907 ],\n",
       "       [ 34.38904762],\n",
       "       [ 44.47075   ],\n",
       "       [ 40.55095238],\n",
       "       [ 39.29119048],\n",
       "       [ 37.58418605],\n",
       "       [ 42.03209302],\n",
       "       [ 46.12488372],\n",
       "       [ 44.08767442],\n",
       "       [ 37.30975   ],\n",
       "       [ 41.48952381],\n",
       "       [ 34.77214286],\n",
       "       [ 35.24139535],\n",
       "       [ 27.84186047],\n",
       "       [ 37.20232558],\n",
       "       [ 43.0447619 ],\n",
       "       [ 30.6725    ],\n",
       "       [ 19.35512195],\n",
       "       [ 19.24113636],\n",
       "       [ 15.15931818],\n",
       "       [ 15.03681818],\n",
       "       [ 23.15953488],\n",
       "       [ 35.17372093],\n",
       "       [ 38.60046512],\n",
       "       [ 49.21813953],\n",
       "       [ 33.89190476],\n",
       "       [ 21.21340909],\n",
       "       [ 33.83395349],\n",
       "       [ 40.09904762],\n",
       "       [ 42.62488372],\n",
       "       [ 48.94372093],\n",
       "       [ 49.75837209],\n",
       "       [ 78.61142857],\n",
       "       [ 78.5827907 ],\n",
       "       [ 81.05744186],\n",
       "       [ 57.22511628],\n",
       "       [ 40.68666667],\n",
       "       [ 43.04837209],\n",
       "       [ 68.50604651],\n",
       "       [ 89.0644186 ],\n",
       "       [121.43439024],\n",
       "       [ 48.92547619],\n",
       "       [ 38.77613636],\n",
       "       [ 31.08375   ],\n",
       "       [ 20.40577778],\n",
       "       [ 18.255     ],\n",
       "       [ 18.73204545],\n",
       "       [ 17.60136364],\n",
       "       [ 17.17863636],\n",
       "       [ 25.33909091],\n",
       "       [ 30.23681818],\n",
       "       [ 40.59255814],\n",
       "       [ 46.76186047],\n",
       "       [ 52.00714286],\n",
       "       [ 59.84674419],\n",
       "       [ 79.65159091],\n",
       "       [ 69.20348837],\n",
       "       [ 61.02404762],\n",
       "       [ 66.02111111],\n",
       "       [ 52.93153846],\n",
       "       [ 42.99731707],\n",
       "       [ 45.16512195],\n",
       "       [ 54.8527907 ],\n",
       "       [ 56.57047619],\n",
       "       [ 44.22162791],\n",
       "       [ 37.01142857],\n",
       "       [ 37.19829268],\n",
       "       [ 34.09690476],\n",
       "       [ 36.35166667],\n",
       "       [ 39.85846154],\n",
       "       [ 41.35232558],\n",
       "       [ 37.93045455],\n",
       "       [ 35.60488372],\n",
       "       [ 36.31022727],\n",
       "       [ 39.89906977],\n",
       "       [ 40.68151515],\n",
       "       [ 47.56285714],\n",
       "       [ 50.70095238],\n",
       "       [ 51.935     ],\n",
       "       [ 52.59454545],\n",
       "       [ 72.32186047],\n",
       "       [ 52.05395349],\n",
       "       [ 80.24372093],\n",
       "       [ 90.55348837],\n",
       "       [ 97.92465116],\n",
       "       [ 68.09023256],\n",
       "       [ 53.49581395],\n",
       "       [ 54.19871795],\n",
       "       [ 56.3434375 ],\n",
       "       [ 55.4090625 ],\n",
       "       [ 45.21      ],\n",
       "       [ 50.96380952],\n",
       "       [ 39.93073171],\n",
       "       [ 39.20809524],\n",
       "       [ 48.79674419],\n",
       "       [ 48.72159091],\n",
       "       [ 40.20325581],\n",
       "       [ 38.59711111],\n",
       "       [ 39.39238095],\n",
       "       [ 42.07674419],\n",
       "       [ 46.31731707],\n",
       "       [ 47.86906977],\n",
       "       [ 45.35738095],\n",
       "       [ 47.56564103],\n",
       "       [ 61.28974359],\n",
       "       [ 72.47651163],\n",
       "       [ 47.00976744],\n",
       "       [ 36.875     ],\n",
       "       [ 35.58714286],\n",
       "       [ 40.80763158],\n",
       "       [ 44.00674419],\n",
       "       [ 46.36372093],\n",
       "       [ 46.84046512],\n",
       "       [ 37.44255814],\n",
       "       [ 35.39790698],\n",
       "       [ 42.10302326],\n",
       "       [ 42.2297561 ],\n",
       "       [ 59.02340909],\n",
       "       [ 54.00534884],\n",
       "       [ 48.41348837],\n",
       "       [ 47.14707317],\n",
       "       [ 48.51317073],\n",
       "       [ 50.16744186],\n",
       "       [ 51.95738095],\n",
       "       [ 52.66095238],\n",
       "       [ 46.6327907 ],\n",
       "       [ 42.68761905],\n",
       "       [ 44.07837209],\n",
       "       [ 45.54804878],\n",
       "       [ 82.85837209],\n",
       "       [121.57813953],\n",
       "       [121.15902439],\n",
       "       [ 91.94906977],\n",
       "       [ 55.98744186],\n",
       "       [ 47.48666667],\n",
       "       [ 48.34333333]])"
      ]
     },
     "execution_count": 17,
     "metadata": {},
     "output_type": "execute_result"
    }
   ],
   "source": [
    "Ytest"
   ]
  },
  {
   "cell_type": "code",
   "execution_count": 18,
   "metadata": {},
   "outputs": [
    {
     "data": {
      "text/plain": [
       "18.095076622579064"
      ]
     },
     "execution_count": 18,
     "metadata": {},
     "output_type": "execute_result"
    }
   ],
   "source": [
    "#CalculatiNG RMSE\n",
    "rmse = sqrt(mean_squared_error(Ytest, mean.numpy()))\n",
    "rmse"
   ]
  },
  {
   "cell_type": "code",
   "execution_count": 19,
   "metadata": {},
   "outputs": [],
   "source": [
    "f = lambda time: Timestamp.fromtimestamp(time*3600)\n",
    "f2 = np.vectorize(f)"
   ]
  },
  {
   "cell_type": "code",
   "execution_count": 22,
   "metadata": {},
   "outputs": [
    {
     "data": {
      "image/png": "[encoded data removed]",
      "text/plain": [
       "<Figure size 864x432 with 1 Axes>"
      ]
     },
     "metadata": {
      "needs_background": "light"
     },
     "output_type": "display_data"
    },
    {
     "data": {
      "text/plain": [
       "<Figure size 432x288 with 0 Axes>"
      ]
     },
     "metadata": {},
     "output_type": "display_data"
    }
   ],
   "source": [
    "#Plotting results\n",
    "plt.figure(figsize=(12,6))\n",
    "plt.title('Predicted vs Actual PM 2.5 levels for test location')\n",
    "plt.xlim(f2(Xtest[:,2]).min()-timedelta(hours=1), f2(Xtest[:,2]).max()+timedelta(hours=1))\n",
    "plt.ylim(10,150)\n",
    "plt.plot(f2(Xtest[:, 2]), Ytest, label='Actual')\n",
    "plt.plot(f2(Xtest[:, 2]), mean.numpy(), label='Predicted')\n",
    "plt.legend(loc='best')\n",
    "plt.show()\n",
    "plt.savefig('predicted_vs_actual.png')"
   ]
  },
  {
   "cell_type": "code",
   "execution_count": 28,
   "metadata": {},
   "outputs": [],
   "source": [
    "def cross_validation(long, lat, i):\n",
    "    '''\n",
    "    Performs cross validation by removing a specific location's data from the dataset\n",
    "    '''\n",
    "    \n",
    "    location_indices = np.where(np.logical_and(X[:,0]==long, X[:,1]==lat))\n",
    "    try:\n",
    "        #Removing location's data from dataset\n",
    "        Xset = X[np.logical_not(np.logical_and(X[:,0]==long, X[:,1]==lat))]\n",
    "        Yset = np.delete(Y, slice(location_indices[0][0],location_indices[0][-1]+1), axis=0)\n",
    "    \n",
    "        #Removing Nans\n",
    "        keep = ~np.isnan(Yset[:,0])\n",
    "        Xset = Xset[keep,:]\n",
    "        Yset = Yset[keep,:]\n",
    "    \n",
    "       #Creating training dataset\n",
    "        Xtraining = Xset[::10,:]\n",
    "        Ytraining = Yset[::10,:]\n",
    "    \n",
    "        #creating test dataset\n",
    "        Xtest = X[np.logical_and(X[:,0]==long, X[:,1]==lat)]\n",
    "        Ytest = Y[location_indices[0][0]:location_indices[0][-1]+1]\n",
    "    \n",
    "        #training the model\n",
    "        m = gpflow.models.GPR(data=(Xtraining, Ytraining), kernel=k, mean_function=None)\n",
    "        set_trainable(m.kernel.kernels[0].lengthscales, False) \n",
    "    \n",
    "        #model optimization\n",
    "        opt = gpflow.optimizers.Scipy()\n",
    "\n",
    "        def objective_closure():\n",
    "             return - m.log_marginal_likelihood()\n",
    "\n",
    "        opt_logs = opt.minimize(objective_closure, m.trainable_variables, options=dict(maxiter=100))\n",
    "    \n",
    "        #Making predictions\n",
    "        mean, var = m.predict_f(Xtest)\n",
    "    \n",
    "        #CalculatiNG RMSE and appending to list\n",
    "        rmse = sqrt(mean_squared_error(Ytest, mean.numpy()))\n",
    "        rmse_list.append({'latitude':lat, 'longitude':long, 'rmse':rmse})\n",
    "    \n",
    "        #f = lambda time: Timestamp.fromtimestamp(time*3600)\n",
    "        #f2 = np.vectorize(f)\n",
    "    \n",
    "        #Plotting actual vs predicted\n",
    "        #plt.figure(figsize=(12,6))\n",
    "        #plt.title('Location '+str(i))\n",
    "        #plt.xlim(f2(Xtest[:,2]).min()-timedelta(hours=1), f2(Xtest[:,2]).max()+timedelta(hours=1))\n",
    "        #plt.ylim(10,150)\n",
    "        #plt.plot(f2(Xtest[:, 2]), Ytest, label='Actual')\n",
    "        #plt.plot(f2(Xtest[:, 2]), mean.numpy(), label='Predicted')\n",
    "        #plt.legend(loc='best')\n",
    "        #plt.show()\n",
    "        #plt.savefig('cross_validation/location_'+str(i)+'.png')\n",
    "    except:\n",
    "        pass"
   ]
  },
  {
   "cell_type": "code",
   "execution_count": 29,
   "metadata": {},
   "outputs": [],
   "source": [
    "longs = [X[:,0][index] for index in sorted(np.unique(X[:,0], return_index=True)[1])]\n",
    "lats = [X[:,1][index] for index in sorted(np.unique(X[:,1], return_index=True)[1])]"
   ]
  },
  {
   "cell_type": "code",
   "execution_count": 30,
   "metadata": {},
   "outputs": [],
   "source": [
    "rmse_list = []\n",
    "for i in range(len(longs)):\n",
    "    cross_validation(longs[i], lats[i],i)"
   ]
  },
  {
   "cell_type": "code",
   "execution_count": 31,
   "metadata": {},
   "outputs": [
    {
     "data": {
      "text/plain": [
       "[{'latitude': 0.391478, 'longitude': 32.62583, 'rmse': 17.448407743156956},\n",
       " {'latitude': 0.2689, 'longitude': 32.588, 'rmse': 38.571512617782055},\n",
       " {'latitude': 0.322108, 'longitude': 32.576, 'rmse': 18.073745959506915},\n",
       " {'latitude': 0.286595, 'longitude': 32.506107, 'rmse': 28.35545043116123},\n",
       " {'latitude': 0.3655, 'longitude': 32.6468, 'rmse': 19.92373538855437},\n",
       " {'latitude': 0.3577745, 'longitude': 32.5842442, 'rmse': 24.85755749391855},\n",
       " {'latitude': 0.341674, 'longitude': 32.635306, 'rmse': 54.90647087806462},\n",
       " {'latitude': 0.34646, 'longitude': 32.70328, 'rmse': 17.686958272444393},\n",
       " {'latitude': 0.32232, 'longitude': 32.5757, 'rmse': 18.094819903601614},\n",
       " {'latitude': 0.325346, 'longitude': 32.632288, 'rmse': 19.909553767395963},\n",
       " {'latitude': 0.360209, 'longitude': 32.610756, 'rmse': 18.3671524491091},\n",
       " {'latitude': 0.3759, 'longitude': 32.528, 'rmse': 45.7086992485543},\n",
       " {'latitude': 0.363, 'longitude': 32.529, 'rmse': 31.812324713887847},\n",
       " {'latitude': 0.307, 'longitude': 32.6516, 'rmse': 23.385452293397247},\n",
       " {'latitude': 0.3816, 'longitude': 32.6471, 'rmse': 21.267827054607704},\n",
       " {'latitude': 0.3731, 'longitude': 32.6282, 'rmse': 44.39952594655065},\n",
       " {'latitude': 0.4658, 'longitude': 34.0949, 'rmse': 24.01142755528622},\n",
       " {'latitude': 1.0112, 'longitude': 34.3312, 'rmse': 29.135292325315426},\n",
       " {'latitude': 0.5675, 'longitude': 33.7517, 'rmse': 23.979325968059417},\n",
       " {'latitude': -1.245, 'longitude': 29.9892, 'rmse': 27.384805579337005},\n",
       " {'latitude': 0.347, 'longitude': 32.6494, 'rmse': 121.38448481124156},\n",
       " {'latitude': -1.2832, 'longitude': 29.7014, 'rmse': 36.370595508157855},\n",
       " {'latitude': 1.7145, 'longitude': 33.6212, 'rmse': 30.414984029854118},\n",
       " {'latitude': 0.6939, 'longitude': 34.1814, 'rmse': 23.131466044435772},\n",
       " {'latitude': 0.178, 'longitude': 30.0837, 'rmse': 42.0772898714982},\n",
       " {'latitude': 0.4007, 'longitude': 32.0422, 'rmse': 24.6951731180228},\n",
       " {'latitude': 0.5497, 'longitude': 31.3967, 'rmse': 16.90745791463307},\n",
       " {'latitude': -0.2651, 'longitude': 30.1069, 'rmse': 48.992612287340755},\n",
       " {'latitude': 0.6741, 'longitude': 29.994, 'rmse': 29.296334134286354},\n",
       " {'latitude': 0.2019, 'longitude': 33.8172, 'rmse': 34.78871917065984},\n",
       " {'latitude': 0.6576, 'longitude': 30.2676, 'rmse': 51.33120183249254},\n",
       " {'latitude': 0.314, 'longitude': 32.59, 'rmse': 14.836344851155557},\n",
       " {'latitude': 0.3548, 'longitude': 32.6778, 'rmse': 19.81544801057264},\n",
       " {'latitude': 0.6114, 'longitude': 33.47, 'rmse': 26.207220933051808},\n",
       " {'latitude': 0.6503, 'longitude': 33.1708, 'rmse': 51.40800586604486},\n",
       " {'latitude': 0.2953, 'longitude': 32.5537, 'rmse': 33.94918171559947},\n",
       " {'latitude': 0.3608, 'longitude': 32.7526, 'rmse': 26.382314871873266},\n",
       " {'latitude': 0.2357, 'longitude': 32.5576, 'rmse': 28.50829778206929},\n",
       " {'latitude': 0.2336, 'longitude': 32.5635, 'rmse': 22.91659550147263},\n",
       " {'latitude': 0.0596, 'longitude': 32.4603, 'rmse': 19.870737463670018},\n",
       " {'latitude': 0.289, 'longitude': 32.589, 'rmse': 30.36460309740369},\n",
       " {'latitude': 0.2836, 'longitude': 32.6, 'rmse': 28.62365601785864},\n",
       " {'latitude': 1.0761, 'longitude': 34.1617, 'rmse': 49.62768072076501},\n",
       " {'latitude': 0.344, 'longitude': 32.553, 'rmse': 32.70241224440992},\n",
       " {'latitude': 0.3075, 'longitude': 32.6206, 'rmse': 19.43244325272153},\n",
       " {'latitude': 0.3412, 'longitude': 32.602, 'rmse': 18.79510089255194},\n",
       " {'latitude': 0.2988, 'longitude': 32.615, 'rmse': 18.244410978163497},\n",
       " {'latitude': 0.2182, 'longitude': 32.6176, 'rmse': 27.09049838744199},\n",
       " {'latitude': 0.3517, 'longitude': 32.591, 'rmse': 22.245258378375453}]"
      ]
     },
     "execution_count": 31,
     "metadata": {},
     "output_type": "execute_result"
    }
   ],
   "source": [
    "rmse_list"
   ]
  }
 ],
 "metadata": {
  "kernelspec": {
   "display_name": "Python 3",
   "language": "python",
   "name": "python3"
  },
  "language_info": {
   "codemirror_mode": {
    "name": "ipython",
    "version": 3
   },
   "file_extension": ".py",
   "mimetype": "text/x-python",
   "name": "python",
   "nbconvert_exporter": "python",
   "pygments_lexer": "ipython3",
   "version": "3.7.7"
  }
 },
 "nbformat": 4,
 "nbformat_minor": 4
}
