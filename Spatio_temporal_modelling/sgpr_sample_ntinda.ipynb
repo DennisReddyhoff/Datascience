{
 "cells": [
  {
   "cell_type": "code",
   "execution_count": 28,
   "metadata": {},
   "outputs": [],
   "source": [
    "import numpy as np\n",
    "import pandas as pd\n",
    "from matplotlib import pyplot as plt\n",
    "%matplotlib inline\n",
    "import warnings\n",
    "warnings.filterwarnings('ignore')\n",
    "import pickle\n",
    "import seaborn as sns\n",
    "from pandas import Timestamp\n",
    "import gpflow\n",
    "from gpflow.utilities import print_summary\n",
    "from gpflow import set_trainable\n",
    "import tensorflow as tf\n",
    "from sklearn.metrics import mean_squared_error\n",
    "from math import sqrt\n",
    "from datetime import timedelta\n",
    "from gpflow.config import default_float\n",
    "import math"
   ]
  },
  {
   "cell_type": "code",
   "execution_count": 29,
   "metadata": {},
   "outputs": [],
   "source": [
    "def read_file(path):\n",
    "    d = pickle.load(open(path, 'rb'))\n",
    "    X = d['X']\n",
    "    Y = d['Y']\n",
    "    \n",
    "    Y[Y==0] = np.nan\n",
    "    keep = ~np.isnan(Y[:,0])\n",
    "    Y = Y[keep,:]\n",
    "    X = X[keep,:]\n",
    "    \n",
    "    return X, Y"
   ]
  },
  {
   "cell_type": "code",
   "execution_count": 30,
   "metadata": {},
   "outputs": [],
   "source": [
    "f = lambda time: Timestamp.fromtimestamp(time*3600)\n",
    "f2 = np.vectorize(f)"
   ]
  },
  {
   "cell_type": "code",
   "execution_count": 31,
   "metadata": {},
   "outputs": [],
   "source": [
    "X, Y = read_file('kampala_23_09_20.p')"
   ]
  },
  {
   "cell_type": "code",
   "execution_count": 32,
   "metadata": {},
   "outputs": [],
   "source": [
    "longs = [X[:,0][index] for index in sorted(np.unique(X[:,0], return_index=True)[1])]\n",
    "lats = [X[:,1][index] for index in sorted(np.unique(X[:,1], return_index=True)[1])]"
   ]
  },
  {
   "cell_type": "code",
   "execution_count": 33,
   "metadata": {},
   "outputs": [
    {
     "data": {
      "text/plain": [
       "(0.322108, 32.576)"
      ]
     },
     "execution_count": 33,
     "metadata": {},
     "output_type": "execute_result"
    }
   ],
   "source": [
    "long, lat = longs[6], lats[6]\n",
    "lat, long"
   ]
  },
  {
   "cell_type": "code",
   "execution_count": 34,
   "metadata": {},
   "outputs": [
    {
     "data": {
      "text/plain": [
       "((4770, 3), (4770, 1))"
      ]
     },
     "execution_count": 34,
     "metadata": {},
     "output_type": "execute_result"
    }
   ],
   "source": [
    "location_indices = np.where(np.logical_and(X[:,0]==long, X[:,1]==lat))\n",
    "Xtraining = X[np.logical_not(np.logical_and(X[:,0]==long, X[:,1]==lat))]\n",
    "Ytraining = np.delete(Y, slice(location_indices[0][0],location_indices[0][-1]+1), axis=0)\n",
    "Xtraining.shape, Ytraining.shape"
   ]
  },
  {
   "cell_type": "code",
   "execution_count": 35,
   "metadata": {},
   "outputs": [
    {
     "data": {
      "text/plain": [
       "((126, 3), (126, 1))"
      ]
     },
     "execution_count": 35,
     "metadata": {},
     "output_type": "execute_result"
    }
   ],
   "source": [
    "Xtest = X[np.logical_and(X[:,0]==long, X[:,1]==lat)]\n",
    "Ytest = Y[location_indices[0][0]:location_indices[0][-1]+1]\n",
    "Xtest.shape, Ytest.shape"
   ]
  },
  {
   "cell_type": "code",
   "execution_count": 36,
   "metadata": {},
   "outputs": [
    {
     "name": "stdout",
     "output_type": "stream",
     "text": [
      "╒═════════════════════════════╤═══════════╤═════════════╤═════════╤═════════════╤═════════╤═════════╤══════════════════╕\n",
      "│ name                        │ class     │ transform   │ prior   │ trainable   │ shape   │ dtype   │ value            │\n",
      "╞═════════════════════════════╪═══════════╪═════════════╪═════════╪═════════════╪═════════╪═════════╪══════════════════╡\n",
      "│ Sum.kernels[0].variance     │ Parameter │ Softplus    │         │ True        │ ()      │ float64 │ 1.0              │\n",
      "├─────────────────────────────┼───────────┼─────────────┼─────────┼─────────────┼─────────┼─────────┼──────────────────┤\n",
      "│ Sum.kernels[0].lengthscales │ Parameter │ Softplus    │         │ True        │ (3,)    │ float64 │ [0.01 0.01 1.  ] │\n",
      "├─────────────────────────────┼───────────┼─────────────┼─────────┼─────────────┼─────────┼─────────┼──────────────────┤\n",
      "│ Sum.kernels[1].variance     │ Parameter │ Softplus    │         │ True        │ ()      │ float64 │ 1.0              │\n",
      "╘═════════════════════════════╧═══════════╧═════════════╧═════════╧═════════════╧═════════╧═════════╧══════════════════╛\n"
     ]
    }
   ],
   "source": [
    "k = gpflow.kernels.RBF(lengthscales =[0.01, 0.01, 1]) + gpflow.kernels.Bias()\n",
    "print_summary(k)"
   ]
  },
  {
   "cell_type": "code",
   "execution_count": 37,
   "metadata": {},
   "outputs": [
    {
     "name": "stdout",
     "output_type": "stream",
     "text": [
      "╒═════════════════════════════════════╤═══════════╤══════════════════╤═════════╤═════════════╤═══════════╤═════════╤══════════════════════════════════════════════════╕\n",
      "│ name                                │ class     │ transform        │ prior   │ trainable   │ shape     │ dtype   │ value                                            │\n",
      "╞═════════════════════════════════════╪═══════════╪══════════════════╪═════════╪═════════════╪═══════════╪═════════╪══════════════════════════════════════════════════╡\n",
      "│ SGPR.kernel.kernels[0].variance     │ Parameter │ Softplus         │         │ True        │ ()        │ float64 │ 1.0                                              │\n",
      "├─────────────────────────────────────┼───────────┼──────────────────┼─────────┼─────────────┼───────────┼─────────┼──────────────────────────────────────────────────┤\n",
      "│ SGPR.kernel.kernels[0].lengthscales │ Parameter │ Softplus         │         │ True        │ (3,)      │ float64 │ [0.01 0.01 1.  ]                                 │\n",
      "├─────────────────────────────────────┼───────────┼──────────────────┼─────────┼─────────────┼───────────┼─────────┼──────────────────────────────────────────────────┤\n",
      "│ SGPR.kernel.kernels[1].variance     │ Parameter │ Softplus         │         │ True        │ ()        │ float64 │ 1.0                                              │\n",
      "├─────────────────────────────────────┼───────────┼──────────────────┼─────────┼─────────────┼───────────┼─────────┼──────────────────────────────────────────────────┤\n",
      "│ SGPR.likelihood.variance            │ Parameter │ Softplus + Shift │         │ True        │ ()        │ float64 │ 625.0                                            │\n",
      "├─────────────────────────────────────┼───────────┼──────────────────┼─────────┼─────────────┼───────────┼─────────┼──────────────────────────────────────────────────┤\n",
      "│ SGPR.inducing_variable.Z            │ Parameter │                  │         │ True        │ (4770, 3) │ float64 │ [[3.2610756e+01, 3.6020900e-01, 4.4451800e+05... │\n",
      "╘═════════════════════════════════════╧═══════════╧══════════════════╧═════════╧═════════════╧═══════════╧═════════╧══════════════════════════════════════════════════╛\n"
     ]
    }
   ],
   "source": [
    "m = gpflow.models.SGPR(data=(Xtraining, Ytraining), kernel=k, mean_function=None, inducing_variable=Xtraining.copy())\n",
    "m.likelihood.variance.assign(625)\n",
    "print_summary(m)"
   ]
  },
  {
   "cell_type": "code",
   "execution_count": null,
   "metadata": {},
   "outputs": [],
   "source": [
    "opt = gpflow.optimizers.Scipy()\n",
    "opt_logs = opt.minimize(m.training_loss, m.trainable_variables, options=dict(maxiter=100))"
   ]
  }
 ],
 "metadata": {
  "kernelspec": {
   "display_name": "Python 3",
   "language": "python",
   "name": "python3"
  },
  "language_info": {
   "codemirror_mode": {
    "name": "ipython",
    "version": 3
   },
   "file_extension": ".py",
   "mimetype": "text/x-python",
   "name": "python",
   "nbconvert_exporter": "python",
   "pygments_lexer": "ipython3",
   "version": "3.7.4"
  }
 },
 "nbformat": 4,
 "nbformat_minor": 4
}
