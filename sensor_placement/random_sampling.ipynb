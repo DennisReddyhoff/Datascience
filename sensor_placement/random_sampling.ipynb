{
 "cells": [
  {
   "cell_type": "code",
   "execution_count": 10,
   "metadata": {},
   "outputs": [],
   "source": [
    "#importing relevant packages\n",
    "import pandas as pd\n",
    "import numpy as np\n",
    "import seaborn as sns\n",
    "from google.cloud import bigquery\n",
    "from google.oauth2 import service_account\n",
    "%matplotlib inline"
   ]
  },
  {
   "cell_type": "code",
   "execution_count": 11,
   "metadata": {},
   "outputs": [],
   "source": [
    "#dictionary with parish names as keys and device ids as values\n",
    "parish_sensor_dict = {'NTINDA':930434, 'BUGOLOBI':718028, 'NANTABULIRWA':912224, 'KIREKA':930426, 'LUWAFU':930427, \n",
    "                     'BANDA':912223, 'MBUYA II':912222, 'NAKASERO II':912220, 'KIWATULE':870145, 'KYALIWAJJALA':870143,\n",
    "                     'BUTABIKA':870144, 'NANSANA WEST':870147, 'NANSANA EAST':870142, 'BUSEGA':870139, 'KYANJA':832255,\n",
    "                     'BUSABALA':832252, 'BUNAMWAYA':832253, 'KYEBANDO':832254, 'LUKULI':832251, 'BUKOTO I':782720,\n",
    "                     'KANSANGA':782719, 'KASUBI':782718, 'NAGURU II':755614, 'MAKINDYE I':755612,\n",
    "                     'MAKERERE UNIVERSITY':870146, 'LUBAGA':737276, 'BWEYOGERERE':737273, 'CIVIC CENTRE':689761}"
   ]
  },
  {
   "cell_type": "code",
   "execution_count": 12,
   "metadata": {},
   "outputs": [],
   "source": [
    "def preprocessing(parish):\n",
    "    '''\n",
    "    Collects and preprocesses data\n",
    "    '''\n",
    "    channel_id = parish_sensor_dict[parish]\n",
    "    \n",
    "    #credentials to access GCP\n",
    "    credentials = service_account.Credentials.from_service_account_file('C:/Users/User/AirQo-d982995f6dd8.json')\n",
    "    project_id = 'airqo-250220'\n",
    "\n",
    "    #creating a bigquery cliennt\n",
    "    bqclient = bigquery.Client(credentials= credentials, project=project_id)\n",
    "    \n",
    "    query_string = \"SELECT created_at, pm2_5 FROM `airqo-250220.thingspeak.clean_feeds_pms` WHERE channel_id = %d\" %channel_id    \n",
    "    bqdata = bqclient.query(query_string).result()\n",
    "    data= bqdata.to_dataframe()\n",
    "    \n",
    "    data = data.sort_values(by = 'created_at', ascending=True)\n",
    "    \n",
    "    #filepath = r'D:/AirQo/sensor location model/feeds/'+str(channel_id)+'.csv'\n",
    "    #cols = ['created_at', 'field1']\n",
    "    #data = pd.read_csv(filepath,  parse_dates = ['created_at'], usecols=cols)\n",
    "    \n",
    "    data.set_index('created_at', inplace=True)\n",
    "    hourly_data = data.resample('H').mean().round(2)  \n",
    "    final_data=hourly_data.dropna()\n",
    "    \n",
    "    name = parish+'_pm2_5'\n",
    "    final_data.rename(columns = {'pm2_5': name}, inplace = True)\n",
    "    print (parish, ':done')\n",
    "    \n",
    "    return final_data"
   ]
  },
  {
   "cell_type": "code",
   "execution_count": 13,
   "metadata": {},
   "outputs": [],
   "source": [
    "def merge_dfs(df_list):\n",
    "    '''\n",
    "    Merges several dataframes into one based on the index\n",
    "    '''\n",
    "    from functools import reduce\n",
    "    final_df = reduce(lambda left,right: pd.merge(left,right,on='created_at'), df_list)\n",
    "    return final_df"
   ]
  },
  {
   "cell_type": "code",
   "execution_count": 14,
   "metadata": {},
   "outputs": [],
   "source": [
    "def find_correlation(data, column1, column2):\n",
    "    '''\n",
    "    Finds the correlation between 2 different columns in a dataframe\n",
    "    '''\n",
    "    correlation = data[column1].corr(data[column2])\n",
    "    return correlation"
   ]
  },
  {
   "cell_type": "code",
   "execution_count": 15,
   "metadata": {},
   "outputs": [],
   "source": [
    "def correlation_matrix_1(df):\n",
    "    return df.corr()"
   ]
  },
  {
   "cell_type": "code",
   "execution_count": 16,
   "metadata": {},
   "outputs": [],
   "source": [
    "def correlation_matrix_2(df):\n",
    "    import seaborn as sns\n",
    "    \n",
    "    plt.figure(figsize=(5,5))\n",
    "    sns.heatmap(correlation_matrix_1(df), annot=True, cmap=plt.cm.Reds)\n",
    "    plt.show()"
   ]
  },
  {
   "cell_type": "code",
   "execution_count": 17,
   "metadata": {},
   "outputs": [],
   "source": [
    "def correlation_matrix_3(df):\n",
    "    from matplotlib import pyplot as plt\n",
    "    from matplotlib import cm as cm\n",
    "\n",
    "    fig = plt.figure(figsize=(5,5))\n",
    "    ax1 = fig.add_subplot(111)\n",
    "    cmap = cm.get_cmap('jet', 30)\n",
    "    cax = ax1.imshow(correlation_matrix_1(df), interpolation=\"nearest\", cmap=cmap)\n",
    "    ax1.grid(True)\n",
    "    plt.title('Correlation Matrix')\n",
    "    fig.colorbar(cax, ticks=[.75,.8,.85,.90,.95,1])\n",
    "    plt.show()"
   ]
  },
  {
   "cell_type": "code",
   "execution_count": 18,
   "metadata": {},
   "outputs": [],
   "source": [
    "def correlation_matrix_4(df):\n",
    "    from matplotlib import pyplot as plt\n",
    "    from matplotlib import cm as cm\n",
    "\n",
    "    f = plt.figure(figsize=(5,5))\n",
    "    plt.matshow(correlation_matrix_1(df), fignum=f.number)\n",
    "    plt.xticks(range(df.shape[1]), df.columns, fontsize=14, rotation=45)\n",
    "    plt.yticks(range(df.shape[1]), df.columns, fontsize=14)\n",
    "    cb = plt.colorbar()\n",
    "    cb.ax.tick_params(labelsize=14)\n",
    "    plt.title('Correlation Matrix', fontsize=16)"
   ]
  },
  {
   "cell_type": "code",
   "execution_count": 19,
   "metadata": {},
   "outputs": [
    {
     "data": {
      "text/plain": [
       "(28, 50)"
      ]
     },
     "execution_count": 19,
     "metadata": {},
     "output_type": "execute_result"
    }
   ],
   "source": [
    "data = pd.read_csv('gp_data.csv')\n",
    "data.shape"
   ]
  },
  {
   "cell_type": "code",
   "execution_count": 20,
   "metadata": {},
   "outputs": [],
   "source": [
    "#random sampling\n",
    "random_samples = data.sample(5)"
   ]
  },
  {
   "cell_type": "code",
   "execution_count": null,
   "metadata": {},
   "outputs": [
    {
     "name": "stderr",
     "output_type": "stream",
     "text": [
      "c:\\users\\user\\anaconda3\\envs\\geo_env\\lib\\site-packages\\pandas\\core\\frame.py:4238: SettingWithCopyWarning: \n",
      "A value is trying to be set on a copy of a slice from a DataFrame\n",
      "\n",
      "See the caveats in the documentation: http://pandas.pydata.org/pandas-docs/stable/user_guide/indexing.html#returning-a-view-versus-a-copy\n",
      "  return super().rename(**kwargs)\n"
     ]
    },
    {
     "name": "stdout",
     "output_type": "stream",
     "text": [
      "NANSANA EAST :done\n"
     ]
    }
   ],
   "source": [
    "random_df_list = []\n",
    "for parish in random_samples.parish:\n",
    "    data = preprocessing(parish)\n",
    "    random_df_list.append(data)"
   ]
  },
  {
   "cell_type": "code",
   "execution_count": 48,
   "metadata": {},
   "outputs": [
    {
     "data": {
      "text/html": [
       "<div>\n",
       "<style scoped>\n",
       "    .dataframe tbody tr th:only-of-type {\n",
       "        vertical-align: middle;\n",
       "    }\n",
       "\n",
       "    .dataframe tbody tr th {\n",
       "        vertical-align: top;\n",
       "    }\n",
       "\n",
       "    .dataframe thead th {\n",
       "        text-align: right;\n",
       "    }\n",
       "</style>\n",
       "<table border=\"1\" class=\"dataframe\">\n",
       "  <thead>\n",
       "    <tr style=\"text-align: right;\">\n",
       "      <th></th>\n",
       "      <th>MAKERERE UNIVERSITY_pm2_5</th>\n",
       "      <th>BWEYOGERERE_pm2_5</th>\n",
       "      <th>BUSABALA_pm2_5</th>\n",
       "      <th>KYEBANDO_pm2_5</th>\n",
       "      <th>MBUYA II_pm2_5</th>\n",
       "    </tr>\n",
       "    <tr>\n",
       "      <th>created_at</th>\n",
       "      <th></th>\n",
       "      <th></th>\n",
       "      <th></th>\n",
       "      <th></th>\n",
       "      <th></th>\n",
       "    </tr>\n",
       "  </thead>\n",
       "  <tbody>\n",
       "    <tr>\n",
       "      <th>2019-11-20 07:00:00+00:00</th>\n",
       "      <td>37.21</td>\n",
       "      <td>48.45</td>\n",
       "      <td>15.28</td>\n",
       "      <td>73.93</td>\n",
       "      <td>36.19</td>\n",
       "    </tr>\n",
       "    <tr>\n",
       "      <th>2019-11-20 08:00:00+00:00</th>\n",
       "      <td>40.93</td>\n",
       "      <td>49.26</td>\n",
       "      <td>14.91</td>\n",
       "      <td>70.88</td>\n",
       "      <td>44.54</td>\n",
       "    </tr>\n",
       "    <tr>\n",
       "      <th>2019-11-20 09:00:00+00:00</th>\n",
       "      <td>27.93</td>\n",
       "      <td>44.25</td>\n",
       "      <td>6.65</td>\n",
       "      <td>47.11</td>\n",
       "      <td>37.90</td>\n",
       "    </tr>\n",
       "    <tr>\n",
       "      <th>2019-11-20 10:00:00+00:00</th>\n",
       "      <td>18.26</td>\n",
       "      <td>32.72</td>\n",
       "      <td>8.32</td>\n",
       "      <td>36.23</td>\n",
       "      <td>24.27</td>\n",
       "    </tr>\n",
       "    <tr>\n",
       "      <th>2019-11-20 11:00:00+00:00</th>\n",
       "      <td>13.80</td>\n",
       "      <td>28.45</td>\n",
       "      <td>7.55</td>\n",
       "      <td>173.60</td>\n",
       "      <td>35.35</td>\n",
       "    </tr>\n",
       "  </tbody>\n",
       "</table>\n",
       "</div>"
      ],
      "text/plain": [
       "                           MAKERERE UNIVERSITY_pm2_5  BWEYOGERERE_pm2_5  \\\n",
       "created_at                                                                \n",
       "2019-11-20 07:00:00+00:00                      37.21              48.45   \n",
       "2019-11-20 08:00:00+00:00                      40.93              49.26   \n",
       "2019-11-20 09:00:00+00:00                      27.93              44.25   \n",
       "2019-11-20 10:00:00+00:00                      18.26              32.72   \n",
       "2019-11-20 11:00:00+00:00                      13.80              28.45   \n",
       "\n",
       "                           BUSABALA_pm2_5  KYEBANDO_pm2_5  MBUYA II_pm2_5  \n",
       "created_at                                                                 \n",
       "2019-11-20 07:00:00+00:00           15.28           73.93           36.19  \n",
       "2019-11-20 08:00:00+00:00           14.91           70.88           44.54  \n",
       "2019-11-20 09:00:00+00:00            6.65           47.11           37.90  \n",
       "2019-11-20 10:00:00+00:00            8.32           36.23           24.27  \n",
       "2019-11-20 11:00:00+00:00            7.55          173.60           35.35  "
      ]
     },
     "execution_count": 48,
     "metadata": {},
     "output_type": "execute_result"
    }
   ],
   "source": [
    "merged_df = merge_dfs(random_df_list)\n",
    "merged_df.head()"
   ]
  },
  {
   "cell_type": "code",
   "execution_count": 49,
   "metadata": {},
   "outputs": [
    {
     "data": {
      "text/plain": [
       "(752, 5)"
      ]
     },
     "execution_count": 49,
     "metadata": {},
     "output_type": "execute_result"
    }
   ],
   "source": [
    "merged_df.shape"
   ]
  },
  {
   "cell_type": "markdown",
   "metadata": {},
   "source": [
    "#### Correlation Matrix"
   ]
  },
  {
   "cell_type": "code",
   "execution_count": 63,
   "metadata": {},
   "outputs": [
    {
     "data": {
      "image/png": "[encoded data removed]",
      "text/plain": [
       "<Figure size 360x360 with 2 Axes>"
      ]
     },
     "metadata": {
      "needs_background": "light"
     },
     "output_type": "display_data"
    }
   ],
   "source": [
    "correlation_matrix_2(merged_df)"
   ]
  },
  {
   "cell_type": "code",
   "execution_count": null,
   "metadata": {},
   "outputs": [],
   "source": []
  }
 ],
 "metadata": {
  "kernelspec": {
   "display_name": "Python 3",
   "language": "python",
   "name": "python3"
  },
  "language_info": {
   "codemirror_mode": {
    "name": "ipython",
    "version": 3
   },
   "file_extension": ".py",
   "mimetype": "text/x-python",
   "name": "python",
   "nbconvert_exporter": "python",
   "pygments_lexer": "ipython3",
   "version": "3.7.6"
  }
 },
 "nbformat": 4,
 "nbformat_minor": 2
}
