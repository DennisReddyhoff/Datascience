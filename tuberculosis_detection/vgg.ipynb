{
 "cells": [
  {
   "cell_type": "code",
   "execution_count": 28,
   "metadata": {},
   "outputs": [],
   "source": [
    "from keras.applications import VGG16\n",
    "import keras_metrics as km"
   ]
  },
  {
   "cell_type": "code",
   "execution_count": 29,
   "metadata": {},
   "outputs": [
    {
     "name": "stdout",
     "output_type": "stream",
     "text": [
      "_________________________________________________________________\n",
      "Layer (type)                 Output Shape              Param #   \n",
      "=================================================================\n",
      "input_2 (InputLayer)         (None, 400, 400, 3)       0         \n",
      "_________________________________________________________________\n",
      "block1_conv1 (Conv2D)        (None, 400, 400, 64)      1792      \n",
      "_________________________________________________________________\n",
      "block1_conv2 (Conv2D)        (None, 400, 400, 64)      36928     \n",
      "_________________________________________________________________\n",
      "block1_pool (MaxPooling2D)   (None, 200, 200, 64)      0         \n",
      "_________________________________________________________________\n",
      "block2_conv1 (Conv2D)        (None, 200, 200, 128)     73856     \n",
      "_________________________________________________________________\n",
      "block2_conv2 (Conv2D)        (None, 200, 200, 128)     147584    \n",
      "_________________________________________________________________\n",
      "block2_pool (MaxPooling2D)   (None, 100, 100, 128)     0         \n",
      "_________________________________________________________________\n",
      "block3_conv1 (Conv2D)        (None, 100, 100, 256)     295168    \n",
      "_________________________________________________________________\n",
      "block3_conv2 (Conv2D)        (None, 100, 100, 256)     590080    \n",
      "_________________________________________________________________\n",
      "block3_conv3 (Conv2D)        (None, 100, 100, 256)     590080    \n",
      "_________________________________________________________________\n",
      "block3_pool (MaxPooling2D)   (None, 50, 50, 256)       0         \n",
      "_________________________________________________________________\n",
      "block4_conv1 (Conv2D)        (None, 50, 50, 512)       1180160   \n",
      "_________________________________________________________________\n",
      "block4_conv2 (Conv2D)        (None, 50, 50, 512)       2359808   \n",
      "_________________________________________________________________\n",
      "block4_conv3 (Conv2D)        (None, 50, 50, 512)       2359808   \n",
      "_________________________________________________________________\n",
      "block4_pool (MaxPooling2D)   (None, 25, 25, 512)       0         \n",
      "_________________________________________________________________\n",
      "block5_conv1 (Conv2D)        (None, 25, 25, 512)       2359808   \n",
      "_________________________________________________________________\n",
      "block5_conv2 (Conv2D)        (None, 25, 25, 512)       2359808   \n",
      "_________________________________________________________________\n",
      "block5_conv3 (Conv2D)        (None, 25, 25, 512)       2359808   \n",
      "_________________________________________________________________\n",
      "block5_pool (MaxPooling2D)   (None, 12, 12, 512)       0         \n",
      "=================================================================\n",
      "Total params: 14,714,688\n",
      "Trainable params: 14,714,688\n",
      "Non-trainable params: 0\n",
      "_________________________________________________________________\n"
     ]
    }
   ],
   "source": [
    "conv_base = VGG16(weights='imagenet',\n",
    "                  include_top=False, #not using the pre-trained classifier \n",
    "                  input_shape=(400, 400, 3))\n",
    "conv_base.summary()"
   ]
  },
  {
   "cell_type": "code",
   "execution_count": 30,
   "metadata": {},
   "outputs": [],
   "source": [
    "import os\n",
    "import numpy as np"
   ]
  },
  {
   "cell_type": "code",
   "execution_count": 31,
   "metadata": {},
   "outputs": [],
   "source": [
    "from keras.preprocessing.image import ImageDataGenerator"
   ]
  },
  {
   "cell_type": "code",
   "execution_count": 32,
   "metadata": {},
   "outputs": [],
   "source": [
    "base_dir = 'D:/Education/Makerere/Research/Implementation/final_images'"
   ]
  },
  {
   "cell_type": "code",
   "execution_count": 33,
   "metadata": {},
   "outputs": [],
   "source": [
    "train_dir= os.path.join(base_dir, 'training')\n",
    "validation_dir= os.path.join(base_dir, 'validation')\n",
    "test_dir= os.path.join(base_dir, 'test')"
   ]
  },
  {
   "cell_type": "code",
   "execution_count": 34,
   "metadata": {},
   "outputs": [],
   "source": [
    "datagen = ImageDataGenerator(rescale = 1./255)"
   ]
  },
  {
   "cell_type": "code",
   "execution_count": 35,
   "metadata": {},
   "outputs": [],
   "source": [
    "batch_size = 5"
   ]
  },
  {
   "cell_type": "code",
   "execution_count": 36,
   "metadata": {},
   "outputs": [],
   "source": [
    "def extract_features(directory, sample_count):\n",
    "    features = np.zeros(shape=(sample_count, 12, 12, 512))\n",
    "    labels = np.zeros(shape=(sample_count))\n",
    "    generator = datagen.flow_from_directory(directory,\n",
    "                                            target_size=(400, 400),\n",
    "                                            batch_size=batch_size,\n",
    "                                            class_mode='binary')\n",
    "    i = 0\n",
    "    for inputs_batch, labels_batch in generator:\n",
    "        features_batch = conv_base.predict(inputs_batch)\n",
    "        features[i * batch_size : (i + 1) * batch_size] = features_batch\n",
    "        labels[i * batch_size : (i + 1) * batch_size] = labels_batch\n",
    "        i += 1\n",
    "        if i * batch_size >= sample_count:\n",
    "            break\n",
    "    return features, labels"
   ]
  },
  {
   "cell_type": "code",
   "execution_count": 37,
   "metadata": {},
   "outputs": [
    {
     "name": "stdout",
     "output_type": "stream",
     "text": [
      "Found 88 images belonging to 2 classes.\n",
      "Found 30 images belonging to 2 classes.\n",
      "Found 30 images belonging to 2 classes.\n"
     ]
    }
   ],
   "source": [
    "train_features, train_labels = extract_features(train_dir, 88)\n",
    "\n",
    "validation_features, validation_labels = extract_features(validation_dir, 30)\n",
    "\n",
    "test_features, test_labels = extract_features(test_dir, 30)"
   ]
  },
  {
   "cell_type": "code",
   "execution_count": 38,
   "metadata": {},
   "outputs": [],
   "source": [
    "train_features = np.reshape(train_features, (88, 12 * 12 * 512))\n",
    "validation_features = np.reshape(validation_features, (30, 12 * 12 * 512))\n",
    "test_features = np.reshape(test_features, (30, 12 * 12 * 512))"
   ]
  },
  {
   "cell_type": "code",
   "execution_count": 39,
   "metadata": {},
   "outputs": [
    {
     "name": "stdout",
     "output_type": "stream",
     "text": [
      "Train on 88 samples, validate on 30 samples\n",
      "Epoch 1/13\n",
      "88/88 [==============================] - 3s 36ms/step - loss: 0.6139 - acc: 0.6477 - precision: 0.6275 - recall: 0.7273 - val_loss: 0.3361 - val_acc: 0.8667 - val_precision: 0.9231 - val_recall: 0.8000\n",
      "Epoch 2/13\n",
      "88/88 [==============================] - 3s 34ms/step - loss: 0.3697 - acc: 0.8409 - precision: 0.8750 - recall: 0.7955 - val_loss: 0.3057 - val_acc: 0.9000 - val_precision: 0.8750 - val_recall: 0.9333\n",
      "Epoch 3/13\n",
      "88/88 [==============================] - 3s 35ms/step - loss: 0.3109 - acc: 0.8636 - precision: 0.8636 - recall: 0.8636 - val_loss: 0.3724 - val_acc: 0.8667 - val_precision: 0.7895 - val_recall: 1.0000\n",
      "Epoch 4/13\n",
      "88/88 [==============================] - 3s 34ms/step - loss: 0.2261 - acc: 0.9205 - precision: 0.9744 - recall: 0.8636 - val_loss: 0.2860 - val_acc: 0.8333 - val_precision: 0.7778 - val_recall: 0.9333\n",
      "Epoch 5/13\n",
      "88/88 [==============================] - 3s 34ms/step - loss: 0.1944 - acc: 0.9545 - precision: 0.9762 - recall: 0.9318 - val_loss: 0.2423 - val_acc: 0.9000 - val_precision: 0.9286 - val_recall: 0.8667\n",
      "Epoch 6/13\n",
      "88/88 [==============================] - 3s 35ms/step - loss: 0.1796 - acc: 0.9318 - precision: 0.9318 - recall: 0.9318 - val_loss: 0.2937 - val_acc: 0.8667 - val_precision: 1.0000 - val_recall: 0.7333\n",
      "Epoch 7/13\n",
      "88/88 [==============================] - 3s 35ms/step - loss: 0.1180 - acc: 0.9886 - precision: 1.0000 - recall: 0.9773 - val_loss: 0.2139 - val_acc: 0.9000 - val_precision: 0.8750 - val_recall: 0.9333\n",
      "Epoch 8/13\n",
      "88/88 [==============================] - 3s 35ms/step - loss: 0.0965 - acc: 0.9886 - precision: 1.0000 - recall: 0.9773 - val_loss: 0.2362 - val_acc: 0.8667 - val_precision: 0.8235 - val_recall: 0.9333\n",
      "Epoch 9/13\n",
      "88/88 [==============================] - 3s 34ms/step - loss: 0.1064 - acc: 0.9659 - precision: 0.9767 - recall: 0.9545 - val_loss: 0.2338 - val_acc: 0.8667 - val_precision: 0.8235 - val_recall: 0.9333\n",
      "Epoch 10/13\n",
      "88/88 [==============================] - 3s 34ms/step - loss: 0.0850 - acc: 0.9773 - precision: 1.0000 - recall: 0.9545 - val_loss: 0.2781 - val_acc: 0.8333 - val_precision: 0.7778 - val_recall: 0.9333\n",
      "Epoch 11/13\n",
      "88/88 [==============================] - 3s 35ms/step - loss: 0.0556 - acc: 0.9886 - precision: 1.0000 - recall: 0.9773 - val_loss: 0.2347 - val_acc: 0.9333 - val_precision: 1.0000 - val_recall: 0.8667\n",
      "Epoch 12/13\n",
      "88/88 [==============================] - 3s 34ms/step - loss: 0.0524 - acc: 1.0000 - precision: 1.0000 - recall: 1.0000 - val_loss: 0.3599 - val_acc: 0.8667 - val_precision: 0.7895 - val_recall: 1.0000\n",
      "Epoch 13/13\n",
      "88/88 [==============================] - 3s 36ms/step - loss: 0.0616 - acc: 0.9886 - precision: 1.0000 - recall: 0.9773 - val_loss: 0.2261 - val_acc: 0.9000 - val_precision: 0.8750 - val_recall: 0.9333\n"
     ]
    }
   ],
   "source": [
    "from keras import models\n",
    "from keras import layers\n",
    "from keras import optimizers\n",
    "\n",
    "model = models.Sequential()\n",
    "model.add(layers.Dense(256, activation='relu', input_dim=12 * 12 * 512))\n",
    "model.add(layers.Dropout(0.001))\n",
    "model.add(layers.Dense(1, activation='sigmoid'))\n",
    "\n",
    "model.compile(optimizer=optimizers.RMSprop(lr=2e-5),\n",
    "              loss='binary_crossentropy',\n",
    "              metrics=['acc', km.binary_precision(), km.binary_recall()])\n",
    "\n",
    "history = model.fit(train_features, train_labels,\n",
    "                            epochs=13,\n",
    "                            batch_size=5,\n",
    "                            validation_data=(validation_features, validation_labels))"
   ]
  },
  {
   "cell_type": "code",
   "execution_count": 40,
   "metadata": {},
   "outputs": [
    {
     "data": {
      "image/png": "[encoded data removed]",
      "text/plain": [
       "<Figure size 432x288 with 1 Axes>"
      ]
     },
     "metadata": {
      "needs_background": "light"
     },
     "output_type": "display_data"
    },
    {
     "data": {
      "image/png": "[encoded data removed]",
      "text/plain": [
       "<Figure size 432x288 with 1 Axes>"
      ]
     },
     "metadata": {
      "needs_background": "light"
     },
     "output_type": "display_data"
    },
    {
     "data": {
      "text/plain": [
       "<Figure size 432x288 with 0 Axes>"
      ]
     },
     "metadata": {},
     "output_type": "display_data"
    }
   ],
   "source": [
    "import matplotlib.pyplot as plt\n",
    "\n",
    "acc = history.history['acc']\n",
    "val_acc = history.history['val_acc']\n",
    "\n",
    "loss = history.history['loss']\n",
    "val_loss = history.history['val_loss']\n",
    "\n",
    "epochs = range(len(acc))\n",
    "\n",
    "plt.plot(epochs, acc, 'bo', label='Training acc')\n",
    "plt.plot(epochs, val_acc, 'b', label='Validation acc')\n",
    "plt.title('Training and validation accuracy')\n",
    "plt.xlabel('Number of epochs')\n",
    "plt.ylabel('Accuracy')\n",
    "plt.legend()\n",
    "\n",
    "plt.figure()\n",
    "\n",
    "plt.plot(epochs, loss, 'yo', label='Training loss')\n",
    "plt.plot(epochs, val_loss, 'y', label='Validation loss')\n",
    "plt.title('Training and validation loss')\n",
    "plt.xlabel('Number of epochs')\n",
    "plt.ylabel('Loss')\n",
    "plt.legend()\n",
    "\n",
    "plt.figure()\n",
    "\n",
    "plt.show()"
   ]
  },
  {
   "cell_type": "code",
   "execution_count": 41,
   "metadata": {},
   "outputs": [
    {
     "name": "stdout",
     "output_type": "stream",
     "text": [
      "30/30 [==============================] - 0s 767us/step\n",
      "test accuracy is: 0.800000011920929\n",
      "test precision is: 0.7647058778546713\n",
      "test recall is: 0.866666660888889\n"
     ]
    }
   ],
   "source": [
    "test_loss, test_acc, test_precision, test_recall  = model.evaluate(test_features, test_labels)\n",
    "print('test accuracy is:', test_acc)\n",
    "print('test precision is:', test_precision)\n",
    "print('test recall is:', test_recall)"
   ]
  },
  {
   "cell_type": "markdown",
   "metadata": {},
   "source": [
    "## Using data augmentation"
   ]
  },
  {
   "cell_type": "code",
   "execution_count": 42,
   "metadata": {},
   "outputs": [
    {
     "name": "stdout",
     "output_type": "stream",
     "text": [
      "_________________________________________________________________\n",
      "Layer (type)                 Output Shape              Param #   \n",
      "=================================================================\n",
      "vgg16 (Model)                (None, 12, 12, 512)       14714688  \n",
      "_________________________________________________________________\n",
      "flatten_2 (Flatten)          (None, 73728)             0         \n",
      "_________________________________________________________________\n",
      "dense_7 (Dense)              (None, 256)               18874624  \n",
      "_________________________________________________________________\n",
      "dense_8 (Dense)              (None, 1)                 257       \n",
      "=================================================================\n",
      "Total params: 33,589,569\n",
      "Trainable params: 33,589,569\n",
      "Non-trainable params: 0\n",
      "_________________________________________________________________\n"
     ]
    }
   ],
   "source": [
    "from keras import models\n",
    "from keras import layers\n",
    "\n",
    "#adding a densely connected classifier on top of the convolutional base\n",
    "model = models.Sequential()\n",
    "model.add(conv_base)\n",
    "model.add(layers.Flatten())\n",
    "model.add(layers.Dense(256, activation='relu'))\n",
    "model.add(layers.Dense(1, activation='sigmoid'))\n",
    "\n",
    "model.summary()"
   ]
  },
  {
   "cell_type": "code",
   "execution_count": 43,
   "metadata": {},
   "outputs": [
    {
     "name": "stdout",
     "output_type": "stream",
     "text": [
      "This is the number of trainable weights before freezing the conv base: 30\n",
      "This is the number of trainable weights after freezing the conv base: 4\n"
     ]
    }
   ],
   "source": [
    "print('This is the number of trainable weights before freezing the conv base:', len(model.trainable_weights))\n",
    "\n",
    "conv_base.trainable = False\n",
    "print('This is the number of trainable weights after freezing the conv base:', len(model.trainable_weights))"
   ]
  },
  {
   "cell_type": "code",
   "execution_count": 44,
   "metadata": {},
   "outputs": [
    {
     "name": "stdout",
     "output_type": "stream",
     "text": [
      "Found 88 images belonging to 2 classes.\n",
      "Found 30 images belonging to 2 classes.\n",
      "Epoch 1/11\n",
      "20/20 [==============================] - 213s 11s/step - loss: 0.6173 - acc: 0.6397 - precision: 0.6522 - recall: 0.6000 - val_loss: 0.4001 - val_acc: 0.8080 - val_precision: 0.9140 - val_recall: 0.6800\n",
      "Epoch 2/11\n",
      "20/20 [==============================] - 231s 12s/step - loss: 0.4871 - acc: 0.7571 - precision: 0.8250 - recall: 0.6735 - val_loss: 0.4653 - val_acc: 0.7920 - val_precision: 0.7062 - val_recall: 1.0000\n",
      "Epoch 3/11\n",
      "20/20 [==============================] - 241s 12s/step - loss: 0.4175 - acc: 0.8135 - precision: 0.8163 - recall: 0.8163 - val_loss: 0.2827 - val_acc: 0.9000 - val_precision: 0.9310 - val_recall: 0.8640\n",
      "Epoch 4/11\n",
      "20/20 [==============================] - 246s 12s/step - loss: 0.2822 - acc: 0.8635 - precision: 0.9070 - recall: 0.8125 - val_loss: 0.3957 - val_acc: 0.8360 - val_precision: 0.7545 - val_recall: 1.0000\n",
      "Epoch 5/11\n",
      "20/20 [==============================] - 251s 13s/step - loss: 0.4180 - acc: 0.8135 - precision: 0.8478 - recall: 0.7800 - val_loss: 0.5792 - val_acc: 0.7000 - val_precision: 0.6250 - val_recall: 1.0000\n",
      "Epoch 6/11\n",
      "20/20 [==============================] - 252s 13s/step - loss: 0.3024 - acc: 0.8435 - precision: 0.8444 - recall: 0.8261 - val_loss: 0.2894 - val_acc: 0.8720 - val_precision: 0.8286 - val_recall: 0.9355\n",
      "Epoch 7/11\n",
      "20/20 [==============================] - 253s 13s/step - loss: 0.2737 - acc: 0.8599 - precision: 0.8704 - recall: 0.8704 - val_loss: 0.2860 - val_acc: 0.8640 - val_precision: 0.9259 - val_recall: 0.7937\n",
      "Epoch 8/11\n",
      "20/20 [==============================] - 251s 13s/step - loss: 0.2867 - acc: 0.8835 - precision: 0.8913 - recall: 0.8723 - val_loss: 0.2959 - val_acc: 0.8680 - val_precision: 0.9174 - val_recall: 0.8065\n",
      "Epoch 9/11\n",
      "20/20 [==============================] - 249s 12s/step - loss: 0.2327 - acc: 0.9035 - precision: 0.9318 - recall: 0.8723 - val_loss: 0.3066 - val_acc: 0.8400 - val_precision: 0.7852 - val_recall: 0.9360\n",
      "Epoch 10/11\n",
      "20/20 [==============================] - 249s 12s/step - loss: 0.2286 - acc: 0.9099 - precision: 0.9348 - recall: 0.8776 - val_loss: 0.2975 - val_acc: 0.8360 - val_precision: 0.7800 - val_recall: 0.9360\n",
      "Epoch 11/11\n",
      "20/20 [==============================] - 248s 12s/step - loss: 0.1881 - acc: 0.9099 - precision: 0.9348 - recall: 0.8776 - val_loss: 0.2667 - val_acc: 0.9000 - val_precision: 0.9310 - val_recall: 0.8640\n"
     ]
    }
   ],
   "source": [
    "#Training the model end to end with a frozen convolutional base\n",
    "\n",
    "from keras.preprocessing.image import ImageDataGenerator\n",
    "from keras import optimizers\n",
    "import keras_metrics as km\n",
    "\n",
    "train_datagen = ImageDataGenerator(rescale=1./255,\n",
    "                                   rotation_range=40,\n",
    "                                   width_shift_range=0.2,\n",
    "                                   height_shift_range=0.2,\n",
    "                                   shear_range=0.2,\n",
    "                                   zoom_range=0.2,\n",
    "                                   horizontal_flip=True,\n",
    "                                   fill_mode='nearest')\n",
    "\n",
    "test_datagen = ImageDataGenerator(rescale=1./255)\n",
    "\n",
    "train_generator = train_datagen.flow_from_directory(train_dir,\n",
    "                                                    target_size=(400, 400),\n",
    "                                                    batch_size=5,\n",
    "                                                    class_mode='binary')\n",
    "\n",
    "validation_generator = test_datagen.flow_from_directory(validation_dir,\n",
    "                                                        target_size=(400, 400),\n",
    "                                                        batch_size=5,\n",
    "                                                        class_mode='binary')\n",
    "\n",
    "model.compile(loss='binary_crossentropy',\n",
    "              optimizer=optimizers.RMSprop(lr=2e-5),\n",
    "              metrics=['acc', km.binary_precision(), km.binary_recall()])\n",
    "\n",
    "history = model.fit_generator(train_generator,\n",
    "                              steps_per_epoch=20,\n",
    "                              epochs=11,\n",
    "                              validation_data=validation_generator,\n",
    "                              validation_steps=50)"
   ]
  },
  {
   "cell_type": "code",
   "execution_count": 45,
   "metadata": {},
   "outputs": [
    {
     "data": {
      "image/png": "[encoded data removed]",
      "text/plain": [
       "<Figure size 432x288 with 1 Axes>"
      ]
     },
     "metadata": {
      "needs_background": "light"
     },
     "output_type": "display_data"
    },
    {
     "data": {
      "image/png": "[encoded data removed]",
      "text/plain": [
       "<Figure size 432x288 with 1 Axes>"
      ]
     },
     "metadata": {
      "needs_background": "light"
     },
     "output_type": "display_data"
    },
    {
     "data": {
      "text/plain": [
       "<Figure size 432x288 with 0 Axes>"
      ]
     },
     "metadata": {},
     "output_type": "display_data"
    }
   ],
   "source": [
    "import matplotlib.pyplot as plt\n",
    "\n",
    "acc = history.history['acc']\n",
    "val_acc = history.history['val_acc']\n",
    "\n",
    "loss = history.history['loss']\n",
    "val_loss = history.history['val_loss']\n",
    "\n",
    "epochs = range(len(acc))\n",
    "\n",
    "plt.plot(epochs, acc, 'bo', label='Training acc')\n",
    "plt.plot(epochs, val_acc, 'b', label='Validation acc')\n",
    "plt.title('Training and validation accuracy')\n",
    "plt.xlabel('Number of epochs')\n",
    "plt.ylabel('Accuracy')\n",
    "plt.legend()\n",
    "\n",
    "plt.figure()\n",
    "\n",
    "plt.plot(epochs, loss, 'yo', label='Training loss')\n",
    "plt.plot(epochs, val_loss, 'y', label='Validation loss')\n",
    "plt.title('Training and validation loss')\n",
    "plt.xlabel('Number of epochs')\n",
    "plt.ylabel('Loss')\n",
    "plt.legend()\n",
    "\n",
    "plt.figure()\n",
    "\n",
    "plt.show()"
   ]
  },
  {
   "cell_type": "code",
   "execution_count": 46,
   "metadata": {},
   "outputs": [
    {
     "name": "stdout",
     "output_type": "stream",
     "text": [
      "Found 30 images belonging to 2 classes.\n",
      "test accuracy is: 0.8000000107288361\n",
      "test precision is: 0.7919999993664001\n",
      "test recall is: 0.8048780481261154\n"
     ]
    }
   ],
   "source": [
    "test_generator = test_datagen.flow_from_directory(test_dir,\n",
    "                                                  target_size=(400, 400),\n",
    "                                                  batch_size=5,\n",
    "                                                  class_mode='binary')\n",
    "\n",
    "#test_loss, test_acc = model.evaluate_generator(test_generator, steps=50)\n",
    "#print('test acc:', test_acc)\n",
    "\n",
    "test_loss, test_acc, test_precision, test_recall  = model.evaluate_generator(test_generator, steps=50)\n",
    "print('test accuracy is:', test_acc)\n",
    "print('test precision is:', test_precision)\n",
    "print('test recall is:', test_recall)"
   ]
  },
  {
   "cell_type": "markdown",
   "metadata": {},
   "source": [
    "## Finetuning"
   ]
  },
  {
   "cell_type": "code",
   "execution_count": 47,
   "metadata": {},
   "outputs": [
    {
     "name": "stdout",
     "output_type": "stream",
     "text": [
      "_________________________________________________________________\n",
      "Layer (type)                 Output Shape              Param #   \n",
      "=================================================================\n",
      "input_2 (InputLayer)         (None, 400, 400, 3)       0         \n",
      "_________________________________________________________________\n",
      "block1_conv1 (Conv2D)        (None, 400, 400, 64)      1792      \n",
      "_________________________________________________________________\n",
      "block1_conv2 (Conv2D)        (None, 400, 400, 64)      36928     \n",
      "_________________________________________________________________\n",
      "block1_pool (MaxPooling2D)   (None, 200, 200, 64)      0         \n",
      "_________________________________________________________________\n",
      "block2_conv1 (Conv2D)        (None, 200, 200, 128)     73856     \n",
      "_________________________________________________________________\n",
      "block2_conv2 (Conv2D)        (None, 200, 200, 128)     147584    \n",
      "_________________________________________________________________\n",
      "block2_pool (MaxPooling2D)   (None, 100, 100, 128)     0         \n",
      "_________________________________________________________________\n",
      "block3_conv1 (Conv2D)        (None, 100, 100, 256)     295168    \n",
      "_________________________________________________________________\n",
      "block3_conv2 (Conv2D)        (None, 100, 100, 256)     590080    \n",
      "_________________________________________________________________\n",
      "block3_conv3 (Conv2D)        (None, 100, 100, 256)     590080    \n",
      "_________________________________________________________________\n",
      "block3_pool (MaxPooling2D)   (None, 50, 50, 256)       0         \n",
      "_________________________________________________________________\n",
      "block4_conv1 (Conv2D)        (None, 50, 50, 512)       1180160   \n",
      "_________________________________________________________________\n",
      "block4_conv2 (Conv2D)        (None, 50, 50, 512)       2359808   \n",
      "_________________________________________________________________\n",
      "block4_conv3 (Conv2D)        (None, 50, 50, 512)       2359808   \n",
      "_________________________________________________________________\n",
      "block4_pool (MaxPooling2D)   (None, 25, 25, 512)       0         \n",
      "_________________________________________________________________\n",
      "block5_conv1 (Conv2D)        (None, 25, 25, 512)       2359808   \n",
      "_________________________________________________________________\n",
      "block5_conv2 (Conv2D)        (None, 25, 25, 512)       2359808   \n",
      "_________________________________________________________________\n",
      "block5_conv3 (Conv2D)        (None, 25, 25, 512)       2359808   \n",
      "_________________________________________________________________\n",
      "block5_pool (MaxPooling2D)   (None, 12, 12, 512)       0         \n",
      "=================================================================\n",
      "Total params: 14,714,688\n",
      "Trainable params: 0\n",
      "Non-trainable params: 14,714,688\n",
      "_________________________________________________________________\n"
     ]
    }
   ],
   "source": [
    "conv_base.summary()"
   ]
  },
  {
   "cell_type": "code",
   "execution_count": 48,
   "metadata": {},
   "outputs": [
    {
     "name": "stdout",
     "output_type": "stream",
     "text": [
      "Epoch 1/3\n",
      "20/20 [==============================] - 258s 13s/step - loss: 0.2650 - acc: 0.8735 - precision: 0.9091 - recall: 0.8333 - val_loss: 0.2430 - val_acc: 0.9320 - val_precision: 0.9297 - val_recall: 0.9370\n",
      "Epoch 2/3\n",
      "20/20 [==============================] - 269s 13s/step - loss: 0.1921 - acc: 0.9235 - precision: 0.9348 - recall: 0.9149 - val_loss: 0.4037 - val_acc: 0.8720 - val_precision: 1.0000 - val_recall: 0.7377\n",
      "Epoch 3/3\n",
      "20/20 [==============================] - 255s 13s/step - loss: 0.1305 - acc: 0.9500 - precision: 0.9400 - recall: 0.9592 - val_loss: 0.2911 - val_acc: 0.8920 - val_precision: 0.8657 - val_recall: 0.9280\n"
     ]
    }
   ],
   "source": [
    "conv_base.trainable = True\n",
    "set_trainable = False\n",
    "for layer in conv_base.layers:\n",
    "    if layer.name == 'block5_conv1':\n",
    "        set_trainable = True\n",
    "    if set_trainable:\n",
    "        layer.trainable = True\n",
    "    else:\n",
    "        layer.trainable = False\n",
    "#Fine-tuning the model\n",
    "\n",
    "model.compile(loss='binary_crossentropy',\n",
    "              optimizer=optimizers.RMSprop(lr=1e-5),\n",
    "              metrics=['acc', km.binary_precision(), km.binary_recall()])\n",
    "\n",
    "history = model.fit_generator(train_generator,\n",
    "                              steps_per_epoch=20,\n",
    "                              epochs=3,\n",
    "                              validation_data=validation_generator,\n",
    "                              validation_steps=50)"
   ]
  },
  {
   "cell_type": "code",
   "execution_count": 49,
   "metadata": {},
   "outputs": [
    {
     "data": {
      "image/png": "[encoded data removed]",
      "text/plain": [
       "<Figure size 432x288 with 1 Axes>"
      ]
     },
     "metadata": {
      "needs_background": "light"
     },
     "output_type": "display_data"
    },
    {
     "data": {
      "image/png": "[encoded data removed]",
      "text/plain": [
       "<Figure size 432x288 with 1 Axes>"
      ]
     },
     "metadata": {
      "needs_background": "light"
     },
     "output_type": "display_data"
    },
    {
     "data": {
      "text/plain": [
       "<Figure size 432x288 with 0 Axes>"
      ]
     },
     "metadata": {},
     "output_type": "display_data"
    }
   ],
   "source": [
    "import matplotlib.pyplot as plt\n",
    "\n",
    "acc = history.history['acc']\n",
    "val_acc = history.history['val_acc']\n",
    "\n",
    "loss = history.history['loss']\n",
    "val_loss = history.history['val_loss']\n",
    "\n",
    "epochs = range(len(acc))\n",
    "\n",
    "plt.plot(epochs, acc, 'bo', label='Training acc')\n",
    "plt.plot(epochs, val_acc, 'b', label='Validation acc')\n",
    "plt.title('Training and validation accuracy')\n",
    "plt.xlabel('Number of epochs')\n",
    "plt.ylabel('Accuracy')\n",
    "plt.legend()\n",
    "\n",
    "plt.figure()\n",
    "\n",
    "plt.plot(epochs, loss, 'yo', label='Training loss')\n",
    "plt.plot(epochs, val_loss, 'y', label='Validation loss')\n",
    "plt.title('Training and validation loss')\n",
    "plt.xlabel('Number of epochs')\n",
    "plt.ylabel('Loss')\n",
    "plt.legend()\n",
    "\n",
    "plt.figure()\n",
    "\n",
    "plt.show()"
   ]
  },
  {
   "cell_type": "code",
   "execution_count": 50,
   "metadata": {},
   "outputs": [
    {
     "name": "stdout",
     "output_type": "stream",
     "text": [
      "Found 30 images belonging to 2 classes.\n",
      "test accuracy is: 0.828000009059906\n",
      "test precision is: 0.8059701486522611\n",
      "test recall is: 0.8639999993088\n"
     ]
    }
   ],
   "source": [
    "test_generator = test_datagen.flow_from_directory(test_dir,\n",
    "                                                  target_size=(400, 400),\n",
    "                                                  batch_size=5,\n",
    "                                                  class_mode='binary')\n",
    "\n",
    "#test_loss, test_acc = model.evaluate_generator(test_generator, steps=50)\n",
    "#print('test acc:', test_acc)\n",
    "\n",
    "test_loss, test_acc, test_precision, test_recall  = model.evaluate_generator(test_generator, steps=50)\n",
    "print('test accuracy is:', test_acc)\n",
    "print('test precision is:', test_precision)\n",
    "print('test recall is:', test_recall)"
   ]
  }
 ],
 "metadata": {
  "kernelspec": {
   "display_name": "Python 3",
   "language": "python",
   "name": "python3"
  },
  "language_info": {
   "codemirror_mode": {
    "name": "ipython",
    "version": 3
   },
   "file_extension": ".py",
   "mimetype": "text/x-python",
   "name": "python",
   "nbconvert_exporter": "python",
   "pygments_lexer": "ipython3",
   "version": "3.7.1"
  }
 },
 "nbformat": 4,
 "nbformat_minor": 2
}
